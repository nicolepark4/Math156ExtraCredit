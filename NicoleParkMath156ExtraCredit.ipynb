{
 "cells": [
  {
   "cell_type": "markdown",
   "id": "5c77a97a",
   "metadata": {},
   "source": [
    "## Math 156 Extra Credit\n"
   ]
  },
  {
   "cell_type": "markdown",
   "id": "a483fb21",
   "metadata": {},
   "source": [
    "### Sentiment Analysis, Hyperparameter Optimization, and Model Comparison"
   ]
  },
  {
   "cell_type": "code",
   "execution_count": 1,
   "id": "1eddd5ff",
   "metadata": {},
   "outputs": [],
   "source": [
    "# Import libraries\n",
    "import numpy as np\n",
    "import pandas as pd\n",
    "import matplotlib.pyplot as plt\n",
    "import seaborn as sns\n",
    "from sklearn.linear_model import LogisticRegression\n",
    "from sklearn.preprocessing import StandardScaler\n",
    "from sklearn.model_selection import cross_val_score, train_test_split, RepeatedStratifiedKFold, RandomizedSearchCV\n",
    "import math\n",
    "from nrclex import NRCLex \n",
    "import re\n",
    "from nltk.tokenize import word_tokenize\n",
    "import nltk\n",
    "from itertools import chain\n",
    "import copy\n",
    "from sklearn.ensemble import RandomForestClassifier\n",
    "from sklearn.datasets import make_classification\n",
    "from scipy.stats import loguniform\n",
    "from sklearn import svm"
   ]
  },
  {
   "cell_type": "code",
   "execution_count": 2,
   "id": "f6a89a78",
   "metadata": {
    "scrolled": false
   },
   "outputs": [
    {
     "name": "stdout",
     "output_type": "stream",
     "text": [
      "showing info https://raw.githubusercontent.com/nltk/nltk_data/gh-pages/index.xml\n"
     ]
    },
    {
     "data": {
      "text/plain": [
       "True"
      ]
     },
     "execution_count": 2,
     "metadata": {},
     "output_type": "execute_result"
    }
   ],
   "source": [
    "nltk.download()"
   ]
  },
  {
   "cell_type": "markdown",
   "id": "92f5ae00",
   "metadata": {},
   "source": [
    "Goal: predict the number of stars in the review from the data.\\\n",
    "We will be using sentiment analysis to see whether we can predict the number of stars from the text review.\n",
    "Dataset can be downloaded from: https://www.kaggle.com/datasets/whenamancodes/amazon-reviews-on-women-dresses?resource=download"
   ]
  },
  {
   "cell_type": "code",
   "execution_count": 3,
   "id": "ab4f751e",
   "metadata": {
    "scrolled": false
   },
   "outputs": [
    {
     "data": {
      "text/html": [
       "<div>\n",
       "<style scoped>\n",
       "    .dataframe tbody tr th:only-of-type {\n",
       "        vertical-align: middle;\n",
       "    }\n",
       "\n",
       "    .dataframe tbody tr th {\n",
       "        vertical-align: top;\n",
       "    }\n",
       "\n",
       "    .dataframe thead th {\n",
       "        text-align: right;\n",
       "    }\n",
       "</style>\n",
       "<table border=\"1\" class=\"dataframe\">\n",
       "  <thead>\n",
       "    <tr style=\"text-align: right;\">\n",
       "      <th></th>\n",
       "      <th>s.no</th>\n",
       "      <th>age</th>\n",
       "      <th>division_name</th>\n",
       "      <th>department_name</th>\n",
       "      <th>class_name</th>\n",
       "      <th>clothing_id</th>\n",
       "      <th>title</th>\n",
       "      <th>review_text</th>\n",
       "      <th>alike_feedback_count</th>\n",
       "      <th>rating</th>\n",
       "      <th>recommend_index</th>\n",
       "    </tr>\n",
       "  </thead>\n",
       "  <tbody>\n",
       "    <tr>\n",
       "      <th>0</th>\n",
       "      <td>0</td>\n",
       "      <td>40</td>\n",
       "      <td>General</td>\n",
       "      <td>Bottoms</td>\n",
       "      <td>Jeans</td>\n",
       "      <td>1028</td>\n",
       "      <td>Amazing fit and wash</td>\n",
       "      <td>Like other reviewers i was hesitant to spend t...</td>\n",
       "      <td>0</td>\n",
       "      <td>5</td>\n",
       "      <td>1</td>\n",
       "    </tr>\n",
       "    <tr>\n",
       "      <th>1</th>\n",
       "      <td>1</td>\n",
       "      <td>62</td>\n",
       "      <td>General Petite</td>\n",
       "      <td>Tops</td>\n",
       "      <td>Blouses</td>\n",
       "      <td>850</td>\n",
       "      <td>Lovely and unique!</td>\n",
       "      <td>As is true of a bunch of the fall clothing pho...</td>\n",
       "      <td>12</td>\n",
       "      <td>5</td>\n",
       "      <td>1</td>\n",
       "    </tr>\n",
       "    <tr>\n",
       "      <th>2</th>\n",
       "      <td>2</td>\n",
       "      <td>47</td>\n",
       "      <td>General Petite</td>\n",
       "      <td>Bottoms</td>\n",
       "      <td>Skirts</td>\n",
       "      <td>993</td>\n",
       "      <td>Meh</td>\n",
       "      <td>I so wanted this skirt to work, love the desig...</td>\n",
       "      <td>3</td>\n",
       "      <td>1</td>\n",
       "      <td>0</td>\n",
       "    </tr>\n",
       "    <tr>\n",
       "      <th>3</th>\n",
       "      <td>3</td>\n",
       "      <td>45</td>\n",
       "      <td>General Petite</td>\n",
       "      <td>Bottoms</td>\n",
       "      <td>Pants</td>\n",
       "      <td>1068</td>\n",
       "      <td>Wow</td>\n",
       "      <td>Love love this! i was hesitant to buy this at ...</td>\n",
       "      <td>0</td>\n",
       "      <td>5</td>\n",
       "      <td>1</td>\n",
       "    </tr>\n",
       "    <tr>\n",
       "      <th>4</th>\n",
       "      <td>4</td>\n",
       "      <td>37</td>\n",
       "      <td>Initmates</td>\n",
       "      <td>Intimate</td>\n",
       "      <td>Swim</td>\n",
       "      <td>24</td>\n",
       "      <td>Great for bigger busts</td>\n",
       "      <td>I absolutely love the retro look of this swims...</td>\n",
       "      <td>0</td>\n",
       "      <td>5</td>\n",
       "      <td>1</td>\n",
       "    </tr>\n",
       "  </tbody>\n",
       "</table>\n",
       "</div>"
      ],
      "text/plain": [
       "   s.no  age   division_name department_name class_name  clothing_id  \\\n",
       "0     0   40         General         Bottoms      Jeans         1028   \n",
       "1     1   62  General Petite            Tops    Blouses          850   \n",
       "2     2   47  General Petite         Bottoms     Skirts          993   \n",
       "3     3   45  General Petite         Bottoms      Pants         1068   \n",
       "4     4   37       Initmates        Intimate       Swim           24   \n",
       "\n",
       "                    title                                        review_text  \\\n",
       "0    Amazing fit and wash  Like other reviewers i was hesitant to spend t...   \n",
       "1      Lovely and unique!  As is true of a bunch of the fall clothing pho...   \n",
       "2                     Meh  I so wanted this skirt to work, love the desig...   \n",
       "3                     Wow  Love love this! i was hesitant to buy this at ...   \n",
       "4  Great for bigger busts  I absolutely love the retro look of this swims...   \n",
       "\n",
       "   alike_feedback_count  rating  recommend_index   \n",
       "0                     0       5                 1  \n",
       "1                    12       5                 1  \n",
       "2                     3       1                 0  \n",
       "3                     0       5                 1  \n",
       "4                     0       5                 1  "
      ]
     },
     "execution_count": 3,
     "metadata": {},
     "output_type": "execute_result"
    }
   ],
   "source": [
    "# Pre-processing\n",
    "# ratings_Books.csv can be found in the GitHub\n",
    "ratings = pd.read_csv(\"WomensDressReviews.csv\", delimiter=',', header = 0)\n",
    "ratings.head()"
   ]
  },
  {
   "cell_type": "markdown",
   "id": "84ad0b53",
   "metadata": {},
   "source": [
    "For simplicity, we can reduce the dataset to the review text and the rating, the two relevant features of this dataset."
   ]
  },
  {
   "cell_type": "code",
   "execution_count": 4,
   "id": "7653eaa0",
   "metadata": {
    "scrolled": false
   },
   "outputs": [
    {
     "data": {
      "text/html": [
       "<div>\n",
       "<style scoped>\n",
       "    .dataframe tbody tr th:only-of-type {\n",
       "        vertical-align: middle;\n",
       "    }\n",
       "\n",
       "    .dataframe tbody tr th {\n",
       "        vertical-align: top;\n",
       "    }\n",
       "\n",
       "    .dataframe thead th {\n",
       "        text-align: right;\n",
       "    }\n",
       "</style>\n",
       "<table border=\"1\" class=\"dataframe\">\n",
       "  <thead>\n",
       "    <tr style=\"text-align: right;\">\n",
       "      <th></th>\n",
       "      <th>review_text</th>\n",
       "      <th>rating</th>\n",
       "    </tr>\n",
       "  </thead>\n",
       "  <tbody>\n",
       "    <tr>\n",
       "      <th>0</th>\n",
       "      <td>Like other reviewers i was hesitant to spend t...</td>\n",
       "      <td>5</td>\n",
       "    </tr>\n",
       "    <tr>\n",
       "      <th>1</th>\n",
       "      <td>As is true of a bunch of the fall clothing pho...</td>\n",
       "      <td>5</td>\n",
       "    </tr>\n",
       "    <tr>\n",
       "      <th>2</th>\n",
       "      <td>I so wanted this skirt to work, love the desig...</td>\n",
       "      <td>1</td>\n",
       "    </tr>\n",
       "    <tr>\n",
       "      <th>3</th>\n",
       "      <td>Love love this! i was hesitant to buy this at ...</td>\n",
       "      <td>5</td>\n",
       "    </tr>\n",
       "    <tr>\n",
       "      <th>4</th>\n",
       "      <td>I absolutely love the retro look of this swims...</td>\n",
       "      <td>5</td>\n",
       "    </tr>\n",
       "  </tbody>\n",
       "</table>\n",
       "</div>"
      ],
      "text/plain": [
       "                                         review_text  rating\n",
       "0  Like other reviewers i was hesitant to spend t...       5\n",
       "1  As is true of a bunch of the fall clothing pho...       5\n",
       "2  I so wanted this skirt to work, love the desig...       1\n",
       "3  Love love this! i was hesitant to buy this at ...       5\n",
       "4  I absolutely love the retro look of this swims...       5"
      ]
     },
     "execution_count": 4,
     "metadata": {},
     "output_type": "execute_result"
    }
   ],
   "source": [
    "ratings = ratings[['review_text', 'rating']]\n",
    "ratings.head()"
   ]
  },
  {
   "cell_type": "markdown",
   "id": "d9fda59c",
   "metadata": {},
   "source": [
    "We will now clean our reviews by reducing them down to the key words that convey the sentiment of the user. First, we remove puncutation and reduce the review down to its core words. We do this using the $re.sub$ package that uses regular expression operations to remove puncutation and leave just the text."
   ]
  },
  {
   "cell_type": "code",
   "execution_count": 5,
   "id": "93343636",
   "metadata": {},
   "outputs": [],
   "source": [
    "def remove_punct(review):\n",
    "    review = re.sub('[^A-Za-z]+', ' ', str(review))\n",
    "    return review"
   ]
  },
  {
   "cell_type": "code",
   "execution_count": 6,
   "id": "84e86c52",
   "metadata": {},
   "outputs": [],
   "source": [
    "ratings['Cleaned Reviews'] = ratings['review_text'].apply(remove_punct)"
   ]
  },
  {
   "cell_type": "code",
   "execution_count": 7,
   "id": "94bd36d7",
   "metadata": {
    "scrolled": true
   },
   "outputs": [
    {
     "data": {
      "text/html": [
       "<div>\n",
       "<style scoped>\n",
       "    .dataframe tbody tr th:only-of-type {\n",
       "        vertical-align: middle;\n",
       "    }\n",
       "\n",
       "    .dataframe tbody tr th {\n",
       "        vertical-align: top;\n",
       "    }\n",
       "\n",
       "    .dataframe thead th {\n",
       "        text-align: right;\n",
       "    }\n",
       "</style>\n",
       "<table border=\"1\" class=\"dataframe\">\n",
       "  <thead>\n",
       "    <tr style=\"text-align: right;\">\n",
       "      <th></th>\n",
       "      <th>review_text</th>\n",
       "      <th>rating</th>\n",
       "      <th>Cleaned Reviews</th>\n",
       "    </tr>\n",
       "  </thead>\n",
       "  <tbody>\n",
       "    <tr>\n",
       "      <th>0</th>\n",
       "      <td>Like other reviewers i was hesitant to spend t...</td>\n",
       "      <td>5</td>\n",
       "      <td>Like other reviewers i was hesitant to spend t...</td>\n",
       "    </tr>\n",
       "    <tr>\n",
       "      <th>1</th>\n",
       "      <td>As is true of a bunch of the fall clothing pho...</td>\n",
       "      <td>5</td>\n",
       "      <td>As is true of a bunch of the fall clothing pho...</td>\n",
       "    </tr>\n",
       "    <tr>\n",
       "      <th>2</th>\n",
       "      <td>I so wanted this skirt to work, love the desig...</td>\n",
       "      <td>1</td>\n",
       "      <td>I so wanted this skirt to work love the design...</td>\n",
       "    </tr>\n",
       "    <tr>\n",
       "      <th>3</th>\n",
       "      <td>Love love this! i was hesitant to buy this at ...</td>\n",
       "      <td>5</td>\n",
       "      <td>Love love this i was hesitant to buy this at f...</td>\n",
       "    </tr>\n",
       "    <tr>\n",
       "      <th>4</th>\n",
       "      <td>I absolutely love the retro look of this swims...</td>\n",
       "      <td>5</td>\n",
       "      <td>I absolutely love the retro look of this swims...</td>\n",
       "    </tr>\n",
       "  </tbody>\n",
       "</table>\n",
       "</div>"
      ],
      "text/plain": [
       "                                         review_text  rating  \\\n",
       "0  Like other reviewers i was hesitant to spend t...       5   \n",
       "1  As is true of a bunch of the fall clothing pho...       5   \n",
       "2  I so wanted this skirt to work, love the desig...       1   \n",
       "3  Love love this! i was hesitant to buy this at ...       5   \n",
       "4  I absolutely love the retro look of this swims...       5   \n",
       "\n",
       "                                     Cleaned Reviews  \n",
       "0  Like other reviewers i was hesitant to spend t...  \n",
       "1  As is true of a bunch of the fall clothing pho...  \n",
       "2  I so wanted this skirt to work love the design...  \n",
       "3  Love love this i was hesitant to buy this at f...  \n",
       "4  I absolutely love the retro look of this swims...  "
      ]
     },
     "execution_count": 7,
     "metadata": {},
     "output_type": "execute_result"
    }
   ],
   "source": [
    "ratings.head()"
   ]
  },
  {
   "cell_type": "markdown",
   "id": "03f85cff",
   "metadata": {},
   "source": [
    "Now we will tokenize our data by breaking it down into categories. Since we are trying to extract sentiments from the reviews, we will be doing work tokeniation using the function $\\textit{word_tokenize}$ from the $\\textit{nltk tokenize}$ package."
   ]
  },
  {
   "cell_type": "code",
   "execution_count": 8,
   "id": "9721e29b",
   "metadata": {},
   "outputs": [],
   "source": [
    "tokenized_review = []\n",
    "for i in range(len(ratings['Cleaned Reviews'])):\n",
    "     tokenized_review.append(word_tokenize(ratings['Cleaned Reviews'][i]))\n",
    "# for i in range()"
   ]
  },
  {
   "cell_type": "code",
   "execution_count": 9,
   "id": "f7398927",
   "metadata": {},
   "outputs": [
    {
     "data": {
      "text/html": [
       "<div>\n",
       "<style scoped>\n",
       "    .dataframe tbody tr th:only-of-type {\n",
       "        vertical-align: middle;\n",
       "    }\n",
       "\n",
       "    .dataframe tbody tr th {\n",
       "        vertical-align: top;\n",
       "    }\n",
       "\n",
       "    .dataframe thead th {\n",
       "        text-align: right;\n",
       "    }\n",
       "</style>\n",
       "<table border=\"1\" class=\"dataframe\">\n",
       "  <thead>\n",
       "    <tr style=\"text-align: right;\">\n",
       "      <th></th>\n",
       "      <th>review_text</th>\n",
       "      <th>rating</th>\n",
       "      <th>Cleaned Reviews</th>\n",
       "      <th>tokenized_review</th>\n",
       "    </tr>\n",
       "  </thead>\n",
       "  <tbody>\n",
       "    <tr>\n",
       "      <th>0</th>\n",
       "      <td>Like other reviewers i was hesitant to spend t...</td>\n",
       "      <td>5</td>\n",
       "      <td>Like other reviewers i was hesitant to spend t...</td>\n",
       "      <td>[Like, other, reviewers, i, was, hesitant, to,...</td>\n",
       "    </tr>\n",
       "    <tr>\n",
       "      <th>1</th>\n",
       "      <td>As is true of a bunch of the fall clothing pho...</td>\n",
       "      <td>5</td>\n",
       "      <td>As is true of a bunch of the fall clothing pho...</td>\n",
       "      <td>[As, is, true, of, a, bunch, of, the, fall, cl...</td>\n",
       "    </tr>\n",
       "    <tr>\n",
       "      <th>2</th>\n",
       "      <td>I so wanted this skirt to work, love the desig...</td>\n",
       "      <td>1</td>\n",
       "      <td>I so wanted this skirt to work love the design...</td>\n",
       "      <td>[I, so, wanted, this, skirt, to, work, love, t...</td>\n",
       "    </tr>\n",
       "    <tr>\n",
       "      <th>3</th>\n",
       "      <td>Love love this! i was hesitant to buy this at ...</td>\n",
       "      <td>5</td>\n",
       "      <td>Love love this i was hesitant to buy this at f...</td>\n",
       "      <td>[Love, love, this, i, was, hesitant, to, buy, ...</td>\n",
       "    </tr>\n",
       "    <tr>\n",
       "      <th>4</th>\n",
       "      <td>I absolutely love the retro look of this swims...</td>\n",
       "      <td>5</td>\n",
       "      <td>I absolutely love the retro look of this swims...</td>\n",
       "      <td>[I, absolutely, love, the, retro, look, of, th...</td>\n",
       "    </tr>\n",
       "  </tbody>\n",
       "</table>\n",
       "</div>"
      ],
      "text/plain": [
       "                                         review_text  rating  \\\n",
       "0  Like other reviewers i was hesitant to spend t...       5   \n",
       "1  As is true of a bunch of the fall clothing pho...       5   \n",
       "2  I so wanted this skirt to work, love the desig...       1   \n",
       "3  Love love this! i was hesitant to buy this at ...       5   \n",
       "4  I absolutely love the retro look of this swims...       5   \n",
       "\n",
       "                                     Cleaned Reviews  \\\n",
       "0  Like other reviewers i was hesitant to spend t...   \n",
       "1  As is true of a bunch of the fall clothing pho...   \n",
       "2  I so wanted this skirt to work love the design...   \n",
       "3  Love love this i was hesitant to buy this at f...   \n",
       "4  I absolutely love the retro look of this swims...   \n",
       "\n",
       "                                    tokenized_review  \n",
       "0  [Like, other, reviewers, i, was, hesitant, to,...  \n",
       "1  [As, is, true, of, a, bunch, of, the, fall, cl...  \n",
       "2  [I, so, wanted, this, skirt, to, work, love, t...  \n",
       "3  [Love, love, this, i, was, hesitant, to, buy, ...  \n",
       "4  [I, absolutely, love, the, retro, look, of, th...  "
      ]
     },
     "execution_count": 9,
     "metadata": {},
     "output_type": "execute_result"
    }
   ],
   "source": [
    "ratings['tokenized_review'] = tokenized_review\n",
    "ratings.head()"
   ]
  },
  {
   "cell_type": "markdown",
   "id": "f7d7d550",
   "metadata": {},
   "source": [
    "Now we find the top emotions from each review based on the sentiment analysis from the word tokenization we did for each review. Based on these top emotions, we can create numerical training data for our model and then optimize our hyperparameters to increase model accuracy as much as possible."
   ]
  },
  {
   "cell_type": "code",
   "execution_count": 10,
   "id": "a77191c5",
   "metadata": {
    "scrolled": true
   },
   "outputs": [],
   "source": [
    "ratings['tokenized_review'] = tokenized_review\n",
    "clean = ratings['Cleaned Reviews']\n",
    "emotion = [0]*len(clean)\n",
    "for i in range(len(clean)):\n",
    "        emotion[i] = NRCLex(clean[i]).top_emotions"
   ]
  },
  {
   "cell_type": "code",
   "execution_count": 11,
   "id": "1a084da9",
   "metadata": {
    "scrolled": true
   },
   "outputs": [
    {
     "data": {
      "text/html": [
       "<div>\n",
       "<style scoped>\n",
       "    .dataframe tbody tr th:only-of-type {\n",
       "        vertical-align: middle;\n",
       "    }\n",
       "\n",
       "    .dataframe tbody tr th {\n",
       "        vertical-align: top;\n",
       "    }\n",
       "\n",
       "    .dataframe thead th {\n",
       "        text-align: right;\n",
       "    }\n",
       "</style>\n",
       "<table border=\"1\" class=\"dataframe\">\n",
       "  <thead>\n",
       "    <tr style=\"text-align: right;\">\n",
       "      <th></th>\n",
       "      <th>review_text</th>\n",
       "      <th>rating</th>\n",
       "      <th>Cleaned Reviews</th>\n",
       "      <th>tokenized_review</th>\n",
       "      <th>emotion</th>\n",
       "    </tr>\n",
       "  </thead>\n",
       "  <tbody>\n",
       "    <tr>\n",
       "      <th>0</th>\n",
       "      <td>Like other reviewers i was hesitant to spend t...</td>\n",
       "      <td>5</td>\n",
       "      <td>Like other reviewers i was hesitant to spend t...</td>\n",
       "      <td>[Like, other, reviewers, i, was, hesitant, to,...</td>\n",
       "      <td>[(positive, 0.3333333333333333)]</td>\n",
       "    </tr>\n",
       "    <tr>\n",
       "      <th>1</th>\n",
       "      <td>As is true of a bunch of the fall clothing pho...</td>\n",
       "      <td>5</td>\n",
       "      <td>As is true of a bunch of the fall clothing pho...</td>\n",
       "      <td>[As, is, true, of, a, bunch, of, the, fall, cl...</td>\n",
       "      <td>[(positive, 0.3448275862068966)]</td>\n",
       "    </tr>\n",
       "    <tr>\n",
       "      <th>2</th>\n",
       "      <td>I so wanted this skirt to work, love the desig...</td>\n",
       "      <td>1</td>\n",
       "      <td>I so wanted this skirt to work love the design...</td>\n",
       "      <td>[I, so, wanted, this, skirt, to, work, love, t...</td>\n",
       "      <td>[(positive, 0.25), (negative, 0.25), (joy, 0.2...</td>\n",
       "    </tr>\n",
       "    <tr>\n",
       "      <th>3</th>\n",
       "      <td>Love love this! i was hesitant to buy this at ...</td>\n",
       "      <td>5</td>\n",
       "      <td>Love love this i was hesitant to buy this at f...</td>\n",
       "      <td>[Love, love, this, i, was, hesitant, to, buy, ...</td>\n",
       "      <td>[(positive, 0.19047619047619047), (joy, 0.1904...</td>\n",
       "    </tr>\n",
       "    <tr>\n",
       "      <th>4</th>\n",
       "      <td>I absolutely love the retro look of this swims...</td>\n",
       "      <td>5</td>\n",
       "      <td>I absolutely love the retro look of this swims...</td>\n",
       "      <td>[I, absolutely, love, the, retro, look, of, th...</td>\n",
       "      <td>[(positive, 0.2222222222222222)]</td>\n",
       "    </tr>\n",
       "  </tbody>\n",
       "</table>\n",
       "</div>"
      ],
      "text/plain": [
       "                                         review_text  rating  \\\n",
       "0  Like other reviewers i was hesitant to spend t...       5   \n",
       "1  As is true of a bunch of the fall clothing pho...       5   \n",
       "2  I so wanted this skirt to work, love the desig...       1   \n",
       "3  Love love this! i was hesitant to buy this at ...       5   \n",
       "4  I absolutely love the retro look of this swims...       5   \n",
       "\n",
       "                                     Cleaned Reviews  \\\n",
       "0  Like other reviewers i was hesitant to spend t...   \n",
       "1  As is true of a bunch of the fall clothing pho...   \n",
       "2  I so wanted this skirt to work love the design...   \n",
       "3  Love love this i was hesitant to buy this at f...   \n",
       "4  I absolutely love the retro look of this swims...   \n",
       "\n",
       "                                    tokenized_review  \\\n",
       "0  [Like, other, reviewers, i, was, hesitant, to,...   \n",
       "1  [As, is, true, of, a, bunch, of, the, fall, cl...   \n",
       "2  [I, so, wanted, this, skirt, to, work, love, t...   \n",
       "3  [Love, love, this, i, was, hesitant, to, buy, ...   \n",
       "4  [I, absolutely, love, the, retro, look, of, th...   \n",
       "\n",
       "                                             emotion  \n",
       "0                   [(positive, 0.3333333333333333)]  \n",
       "1                   [(positive, 0.3448275862068966)]  \n",
       "2  [(positive, 0.25), (negative, 0.25), (joy, 0.2...  \n",
       "3  [(positive, 0.19047619047619047), (joy, 0.1904...  \n",
       "4                   [(positive, 0.2222222222222222)]  "
      ]
     },
     "execution_count": 11,
     "metadata": {},
     "output_type": "execute_result"
    }
   ],
   "source": [
    "ratings['emotion'] = emotion\n",
    "ratings.head()"
   ]
  },
  {
   "cell_type": "markdown",
   "id": "438a0935",
   "metadata": {},
   "source": [
    "For each review, we add the top emotion and the probability of the emotion occurring in the review based on our sentiment analysis."
   ]
  },
  {
   "cell_type": "code",
   "execution_count": 12,
   "id": "407d1657",
   "metadata": {
    "scrolled": false
   },
   "outputs": [],
   "source": [
    "pos = 0\n",
    "core = []\n",
    "prob = []\n",
    "for i in range(ratings.shape[0]):\n",
    "        if((ratings['emotion'][i][0][0]) == 'positive'): \n",
    "            core.append('positive')\n",
    "            prob.append(ratings['emotion'][i][0][1])\n",
    "        elif(ratings['emotion'][i][0][0] == 'negative'):\n",
    "            core.append('negative')\n",
    "            prob.append(ratings['emotion'][i][0][1])\n",
    "        elif(ratings['emotion'][i][0][0] == 'joy'):\n",
    "            core.append('joy')\n",
    "            prob.append(ratings['emotion'][i][0][1])\n",
    "        elif(ratings['emotion'][i][0][0] == 'trust'):\n",
    "            core.append('trust')\n",
    "            prob.append(ratings['emotion'][i][0][1])\n",
    "        elif(ratings['emotion'][i][0][0] == 'fear'):\n",
    "            core.append('fear')\n",
    "            prob.append(ratings['emotion'][i][0][1])\n",
    "        elif(ratings['emotion'][i][0][0] == 'anger'):\n",
    "            core.append('anger')\n",
    "            prob.append(ratings['emotion'][i][0][1])\n",
    "        elif(ratings['emotion'][i][0][0] == 'sadness'):\n",
    "            core.append('sadness')\n",
    "            prob.append(ratings['emotion'][i][0][1])\n",
    "        elif(ratings['emotion'][i][0][0] == 'disgust'):\n",
    "            core.append('disgust')\n",
    "            prob.append(ratings['emotion'][i][0][1])\n",
    "        elif(ratings['emotion'][i][0][0] == 'surprise'):\n",
    "            core.append('surprise')\n",
    "            prob.append(ratings['emotion'][i][0][1])\n",
    "        else:\n",
    "            core.append(0)\n",
    "            prob.append(ratings['emotion'][i][0][1])"
   ]
  },
  {
   "cell_type": "code",
   "execution_count": 13,
   "id": "7f06faf7",
   "metadata": {
    "scrolled": true
   },
   "outputs": [],
   "source": [
    "ratings['core'] = core\n",
    "ratings['prob'] = prob"
   ]
  },
  {
   "cell_type": "code",
   "execution_count": 14,
   "id": "826ed808",
   "metadata": {
    "scrolled": true
   },
   "outputs": [
    {
     "data": {
      "text/html": [
       "<div>\n",
       "<style scoped>\n",
       "    .dataframe tbody tr th:only-of-type {\n",
       "        vertical-align: middle;\n",
       "    }\n",
       "\n",
       "    .dataframe tbody tr th {\n",
       "        vertical-align: top;\n",
       "    }\n",
       "\n",
       "    .dataframe thead th {\n",
       "        text-align: right;\n",
       "    }\n",
       "</style>\n",
       "<table border=\"1\" class=\"dataframe\">\n",
       "  <thead>\n",
       "    <tr style=\"text-align: right;\">\n",
       "      <th></th>\n",
       "      <th>review_text</th>\n",
       "      <th>rating</th>\n",
       "      <th>Cleaned Reviews</th>\n",
       "      <th>tokenized_review</th>\n",
       "      <th>emotion</th>\n",
       "      <th>core</th>\n",
       "      <th>prob</th>\n",
       "    </tr>\n",
       "  </thead>\n",
       "  <tbody>\n",
       "    <tr>\n",
       "      <th>0</th>\n",
       "      <td>Like other reviewers i was hesitant to spend t...</td>\n",
       "      <td>5</td>\n",
       "      <td>Like other reviewers i was hesitant to spend t...</td>\n",
       "      <td>[Like, other, reviewers, i, was, hesitant, to,...</td>\n",
       "      <td>[(positive, 0.3333333333333333)]</td>\n",
       "      <td>positive</td>\n",
       "      <td>0.333333</td>\n",
       "    </tr>\n",
       "    <tr>\n",
       "      <th>1</th>\n",
       "      <td>As is true of a bunch of the fall clothing pho...</td>\n",
       "      <td>5</td>\n",
       "      <td>As is true of a bunch of the fall clothing pho...</td>\n",
       "      <td>[As, is, true, of, a, bunch, of, the, fall, cl...</td>\n",
       "      <td>[(positive, 0.3448275862068966)]</td>\n",
       "      <td>positive</td>\n",
       "      <td>0.344828</td>\n",
       "    </tr>\n",
       "    <tr>\n",
       "      <th>2</th>\n",
       "      <td>I so wanted this skirt to work, love the desig...</td>\n",
       "      <td>1</td>\n",
       "      <td>I so wanted this skirt to work love the design...</td>\n",
       "      <td>[I, so, wanted, this, skirt, to, work, love, t...</td>\n",
       "      <td>[(positive, 0.25), (negative, 0.25), (joy, 0.2...</td>\n",
       "      <td>positive</td>\n",
       "      <td>0.250000</td>\n",
       "    </tr>\n",
       "    <tr>\n",
       "      <th>3</th>\n",
       "      <td>Love love this! i was hesitant to buy this at ...</td>\n",
       "      <td>5</td>\n",
       "      <td>Love love this i was hesitant to buy this at f...</td>\n",
       "      <td>[Love, love, this, i, was, hesitant, to, buy, ...</td>\n",
       "      <td>[(positive, 0.19047619047619047), (joy, 0.1904...</td>\n",
       "      <td>positive</td>\n",
       "      <td>0.190476</td>\n",
       "    </tr>\n",
       "    <tr>\n",
       "      <th>4</th>\n",
       "      <td>I absolutely love the retro look of this swims...</td>\n",
       "      <td>5</td>\n",
       "      <td>I absolutely love the retro look of this swims...</td>\n",
       "      <td>[I, absolutely, love, the, retro, look, of, th...</td>\n",
       "      <td>[(positive, 0.2222222222222222)]</td>\n",
       "      <td>positive</td>\n",
       "      <td>0.222222</td>\n",
       "    </tr>\n",
       "  </tbody>\n",
       "</table>\n",
       "</div>"
      ],
      "text/plain": [
       "                                         review_text  rating  \\\n",
       "0  Like other reviewers i was hesitant to spend t...       5   \n",
       "1  As is true of a bunch of the fall clothing pho...       5   \n",
       "2  I so wanted this skirt to work, love the desig...       1   \n",
       "3  Love love this! i was hesitant to buy this at ...       5   \n",
       "4  I absolutely love the retro look of this swims...       5   \n",
       "\n",
       "                                     Cleaned Reviews  \\\n",
       "0  Like other reviewers i was hesitant to spend t...   \n",
       "1  As is true of a bunch of the fall clothing pho...   \n",
       "2  I so wanted this skirt to work love the design...   \n",
       "3  Love love this i was hesitant to buy this at f...   \n",
       "4  I absolutely love the retro look of this swims...   \n",
       "\n",
       "                                    tokenized_review  \\\n",
       "0  [Like, other, reviewers, i, was, hesitant, to,...   \n",
       "1  [As, is, true, of, a, bunch, of, the, fall, cl...   \n",
       "2  [I, so, wanted, this, skirt, to, work, love, t...   \n",
       "3  [Love, love, this, i, was, hesitant, to, buy, ...   \n",
       "4  [I, absolutely, love, the, retro, look, of, th...   \n",
       "\n",
       "                                             emotion      core      prob  \n",
       "0                   [(positive, 0.3333333333333333)]  positive  0.333333  \n",
       "1                   [(positive, 0.3448275862068966)]  positive  0.344828  \n",
       "2  [(positive, 0.25), (negative, 0.25), (joy, 0.2...  positive  0.250000  \n",
       "3  [(positive, 0.19047619047619047), (joy, 0.1904...  positive  0.190476  \n",
       "4                   [(positive, 0.2222222222222222)]  positive  0.222222  "
      ]
     },
     "execution_count": 14,
     "metadata": {},
     "output_type": "execute_result"
    }
   ],
   "source": [
    "ratings.head()"
   ]
  },
  {
   "cell_type": "markdown",
   "id": "a01ed185",
   "metadata": {},
   "source": [
    "Now we begin fitting our model. We being by split the data into training and testing sets."
   ]
  },
  {
   "cell_type": "code",
   "execution_count": 15,
   "id": "29b4655a",
   "metadata": {},
   "outputs": [],
   "source": [
    "X_train, X_test, y_train, y_test = train_test_split(ratings['prob'], ratings['rating'], random_state=42)"
   ]
  },
  {
   "cell_type": "code",
   "execution_count": 16,
   "id": "9a559935",
   "metadata": {},
   "outputs": [],
   "source": [
    "y_train = y_train - 1\n",
    "y_test = y_test - 1"
   ]
  },
  {
   "cell_type": "code",
   "execution_count": 17,
   "id": "296ff28b",
   "metadata": {},
   "outputs": [],
   "source": [
    "X_train = X_train.to_numpy()\n",
    "X_test = X_test.to_numpy()\n",
    "X_train = X_train.reshape(-1,1)\n",
    "X_test = X_test.reshape(-1,1)"
   ]
  },
  {
   "cell_type": "markdown",
   "id": "7b171a65",
   "metadata": {},
   "source": [
    "We standarize both our training and testing datasets to have a standard deviation of 1."
   ]
  },
  {
   "cell_type": "code",
   "execution_count": 18,
   "id": "dc3aa210",
   "metadata": {},
   "outputs": [],
   "source": [
    "scaler = StandardScaler().fit(X_train.reshape(-1,1))\n",
    "X_train = scaler.transform(X_train)\n",
    "scaler = StandardScaler().fit(X_test.reshape(-1,1))\n",
    "X_test = scaler.transform(X_test)"
   ]
  },
  {
   "cell_type": "code",
   "execution_count": 19,
   "id": "6b308bd6",
   "metadata": {},
   "outputs": [
    {
     "name": "stdout",
     "output_type": "stream",
     "text": [
      "1.0\n",
      "0.9999999999999999\n"
     ]
    }
   ],
   "source": [
    "for i in range(X_train.shape[1]):\n",
    "    print(np.std(X_train[:,i]))\n",
    "for i in range(X_test.shape[1]):\n",
    "    print(np.std(X_test[:,i]))"
   ]
  },
  {
   "cell_type": "markdown",
   "id": "71e0cf8b",
   "metadata": {},
   "source": [
    "We use the $\\text{RandomizedSearchCV}$ function and the $\\text{RepeatedStratifedKFold}$ function in sklearn to conduct a randomized search on hyperparameters and then conduct k-fold cross validation with 5 folds. This is to ensure we find the best set of hyperparameters to optimize our logistic regression model, which is also from $\\text{sklearn}$."
   ]
  },
  {
   "cell_type": "code",
   "execution_count": 20,
   "id": "f14a19cb",
   "metadata": {
    "scrolled": true
   },
   "outputs": [
    {
     "name": "stderr",
     "output_type": "stream",
     "text": [
      "/Users/nicolepark/opt/anaconda3/lib/python3.8/site-packages/sklearn/model_selection/_validation.py:378: FitFailedWarning: \n",
      "5820 fits failed out of a total of 7500.\n",
      "The score on these train-test partitions for these parameters will be set to nan.\n",
      "If these failures are not expected, you can try to debug them by setting error_score='raise'.\n",
      "\n",
      "Below are more details about the failures:\n",
      "--------------------------------------------------------------------------------\n",
      "840 fits failed with the following error:\n",
      "Traceback (most recent call last):\n",
      "  File \"/Users/nicolepark/opt/anaconda3/lib/python3.8/site-packages/sklearn/model_selection/_validation.py\", line 686, in _fit_and_score\n",
      "    estimator.fit(X_train, y_train, **fit_params)\n",
      "  File \"/Users/nicolepark/opt/anaconda3/lib/python3.8/site-packages/sklearn/linear_model/_logistic.py\", line 1091, in fit\n",
      "    solver = _check_solver(self.solver, self.penalty, self.dual)\n",
      "  File \"/Users/nicolepark/opt/anaconda3/lib/python3.8/site-packages/sklearn/linear_model/_logistic.py\", line 61, in _check_solver\n",
      "    raise ValueError(\n",
      "ValueError: Solver newton-cg supports only 'l2' or 'none' penalties, got l1 penalty.\n",
      "\n",
      "--------------------------------------------------------------------------------\n",
      "660 fits failed with the following error:\n",
      "Traceback (most recent call last):\n",
      "  File \"/Users/nicolepark/opt/anaconda3/lib/python3.8/site-packages/sklearn/model_selection/_validation.py\", line 686, in _fit_and_score\n",
      "    estimator.fit(X_train, y_train, **fit_params)\n",
      "  File \"/Users/nicolepark/opt/anaconda3/lib/python3.8/site-packages/sklearn/linear_model/_logistic.py\", line 1091, in fit\n",
      "    solver = _check_solver(self.solver, self.penalty, self.dual)\n",
      "  File \"/Users/nicolepark/opt/anaconda3/lib/python3.8/site-packages/sklearn/linear_model/_logistic.py\", line 61, in _check_solver\n",
      "    raise ValueError(\n",
      "ValueError: Solver lbfgs supports only 'l2' or 'none' penalties, got l1 penalty.\n",
      "\n",
      "--------------------------------------------------------------------------------\n",
      "1665 fits failed with the following error:\n",
      "Traceback (most recent call last):\n",
      "  File \"/Users/nicolepark/opt/anaconda3/lib/python3.8/site-packages/sklearn/model_selection/_validation.py\", line 686, in _fit_and_score\n",
      "    estimator.fit(X_train, y_train, **fit_params)\n",
      "  File \"/Users/nicolepark/opt/anaconda3/lib/python3.8/site-packages/sklearn/linear_model/_logistic.py\", line 1149, in fit\n",
      "    multi_class = _check_multi_class(self.multi_class, solver, len(self.classes_))\n",
      "  File \"/Users/nicolepark/opt/anaconda3/lib/python3.8/site-packages/sklearn/linear_model/_logistic.py\", line 97, in _check_multi_class\n",
      "    raise ValueError(\"Solver %s does not support a multinomial backend.\" % solver)\n",
      "ValueError: Solver liblinear does not support a multinomial backend.\n",
      "\n",
      "--------------------------------------------------------------------------------\n",
      "1020 fits failed with the following error:\n",
      "Traceback (most recent call last):\n",
      "  File \"/Users/nicolepark/opt/anaconda3/lib/python3.8/site-packages/sklearn/model_selection/_validation.py\", line 686, in _fit_and_score\n",
      "    estimator.fit(X_train, y_train, **fit_params)\n",
      "  File \"/Users/nicolepark/opt/anaconda3/lib/python3.8/site-packages/sklearn/linear_model/_logistic.py\", line 1091, in fit\n",
      "    solver = _check_solver(self.solver, self.penalty, self.dual)\n",
      "  File \"/Users/nicolepark/opt/anaconda3/lib/python3.8/site-packages/sklearn/linear_model/_logistic.py\", line 71, in _check_solver\n",
      "    raise ValueError(\n",
      "ValueError: Only 'saga' solver supports elasticnet penalty, got solver=liblinear.\n",
      "\n",
      "--------------------------------------------------------------------------------\n",
      "705 fits failed with the following error:\n",
      "Traceback (most recent call last):\n",
      "  File \"/Users/nicolepark/opt/anaconda3/lib/python3.8/site-packages/sklearn/model_selection/_validation.py\", line 686, in _fit_and_score\n",
      "    estimator.fit(X_train, y_train, **fit_params)\n",
      "  File \"/Users/nicolepark/opt/anaconda3/lib/python3.8/site-packages/sklearn/linear_model/_logistic.py\", line 1091, in fit\n",
      "    solver = _check_solver(self.solver, self.penalty, self.dual)\n",
      "  File \"/Users/nicolepark/opt/anaconda3/lib/python3.8/site-packages/sklearn/linear_model/_logistic.py\", line 61, in _check_solver\n",
      "    raise ValueError(\n",
      "ValueError: Solver lbfgs supports only 'l2' or 'none' penalties, got elasticnet penalty.\n",
      "\n",
      "--------------------------------------------------------------------------------\n",
      "930 fits failed with the following error:\n",
      "Traceback (most recent call last):\n",
      "  File \"/Users/nicolepark/opt/anaconda3/lib/python3.8/site-packages/sklearn/model_selection/_validation.py\", line 686, in _fit_and_score\n",
      "    estimator.fit(X_train, y_train, **fit_params)\n",
      "  File \"/Users/nicolepark/opt/anaconda3/lib/python3.8/site-packages/sklearn/linear_model/_logistic.py\", line 1091, in fit\n",
      "    solver = _check_solver(self.solver, self.penalty, self.dual)\n",
      "  File \"/Users/nicolepark/opt/anaconda3/lib/python3.8/site-packages/sklearn/linear_model/_logistic.py\", line 61, in _check_solver\n",
      "    raise ValueError(\n",
      "ValueError: Solver newton-cg supports only 'l2' or 'none' penalties, got elasticnet penalty.\n",
      "\n",
      "  warnings.warn(some_fits_failed_message, FitFailedWarning)\n",
      "/Users/nicolepark/opt/anaconda3/lib/python3.8/site-packages/sklearn/model_selection/_search.py:953: UserWarning: One or more of the test scores are non-finite: [       nan 0.55949813        nan        nan        nan        nan\n",
      "        nan 0.55949813        nan 0.55949813 0.55949813        nan\n",
      "        nan        nan        nan        nan 0.55949813        nan\n",
      "        nan        nan        nan 0.55949813        nan 0.55949813\n",
      "        nan 0.55949813        nan        nan        nan 0.55949813\n",
      "        nan 0.55949813        nan        nan 0.55949813        nan\n",
      "        nan        nan        nan        nan        nan        nan\n",
      "        nan        nan        nan        nan 0.55949813        nan\n",
      "        nan        nan        nan 0.55949813        nan 0.55949813\n",
      "        nan        nan        nan        nan 0.55949813        nan\n",
      " 0.55949813        nan 0.55949813        nan        nan        nan\n",
      "        nan        nan        nan        nan        nan 0.55949813\n",
      "        nan        nan        nan 0.55949813        nan        nan\n",
      "        nan        nan        nan        nan        nan        nan\n",
      "        nan 0.55949813        nan 0.55949813        nan        nan\n",
      " 0.55949813        nan        nan 0.55949813        nan        nan\n",
      "        nan        nan        nan        nan        nan 0.55949813\n",
      "        nan        nan 0.55949813        nan 0.55949813 0.55949813\n",
      "        nan 0.55949813        nan        nan        nan        nan\n",
      "        nan        nan 0.55949813        nan        nan        nan\n",
      "        nan        nan        nan        nan        nan        nan\n",
      "        nan        nan        nan        nan 0.55949813        nan\n",
      "        nan 0.55949813        nan 0.55949813        nan        nan\n",
      "        nan        nan        nan        nan        nan 0.55949813\n",
      "        nan        nan        nan        nan 0.55949813        nan\n",
      "        nan        nan        nan        nan 0.55949813        nan\n",
      "        nan        nan        nan        nan 0.55949813        nan\n",
      "        nan        nan        nan 0.55949813        nan 0.55949813\n",
      "        nan        nan        nan        nan        nan        nan\n",
      " 0.55949813        nan        nan        nan        nan 0.55949813\n",
      "        nan 0.55949813 0.55949813        nan        nan        nan\n",
      "        nan 0.55949813 0.55949813 0.55949813        nan        nan\n",
      "        nan        nan        nan        nan        nan        nan\n",
      " 0.55949813        nan        nan        nan        nan        nan\n",
      " 0.55949813        nan        nan        nan 0.55949813 0.55949813\n",
      "        nan        nan        nan        nan        nan 0.55949813\n",
      "        nan        nan        nan        nan        nan 0.55949813\n",
      "        nan        nan        nan        nan 0.55949813        nan\n",
      "        nan        nan 0.55949813        nan        nan        nan\n",
      " 0.55949813        nan        nan        nan        nan        nan\n",
      "        nan        nan        nan 0.55949813        nan 0.55949813\n",
      "        nan        nan        nan        nan 0.55949813 0.55949813\n",
      "        nan        nan 0.55949813        nan        nan        nan\n",
      " 0.55949813        nan        nan 0.55949813        nan        nan\n",
      "        nan        nan 0.55949813        nan        nan        nan\n",
      "        nan        nan 0.55949813        nan        nan        nan\n",
      " 0.55949813 0.55949813 0.55949813        nan        nan        nan\n",
      " 0.55949813        nan        nan        nan        nan 0.55949813\n",
      "        nan 0.55949813        nan        nan        nan        nan\n",
      "        nan        nan        nan        nan        nan        nan\n",
      "        nan        nan        nan        nan        nan        nan\n",
      "        nan        nan        nan        nan        nan        nan\n",
      " 0.55949813 0.55949813        nan        nan        nan        nan\n",
      "        nan        nan        nan        nan        nan        nan\n",
      "        nan        nan 0.55949813        nan        nan 0.55949813\n",
      "        nan 0.55949813        nan        nan        nan        nan\n",
      "        nan        nan        nan        nan        nan 0.55949813\n",
      " 0.55949813        nan        nan        nan        nan        nan\n",
      "        nan        nan 0.55949813        nan 0.55949813        nan\n",
      "        nan        nan        nan 0.55949813        nan        nan\n",
      "        nan        nan        nan        nan        nan        nan\n",
      "        nan        nan 0.55949813        nan 0.55949813        nan\n",
      "        nan        nan        nan        nan        nan        nan\n",
      " 0.55949813        nan        nan        nan        nan        nan\n",
      " 0.55949813        nan 0.55949813        nan 0.55949813        nan\n",
      "        nan 0.55949813 0.55949813        nan        nan        nan\n",
      "        nan        nan        nan 0.55949813        nan 0.55949813\n",
      "        nan        nan 0.55949813        nan        nan 0.55949813\n",
      "        nan        nan        nan        nan 0.55949813        nan\n",
      "        nan        nan        nan        nan 0.55949813        nan\n",
      "        nan        nan        nan        nan        nan        nan\n",
      "        nan 0.55949813        nan        nan        nan        nan\n",
      "        nan 0.55949813        nan        nan 0.55949813        nan\n",
      "        nan        nan 0.55949813        nan        nan        nan\n",
      "        nan        nan 0.55949813 0.55949813        nan 0.55949813\n",
      "        nan        nan        nan        nan        nan        nan\n",
      "        nan 0.55949813        nan 0.55949813        nan        nan\n",
      "        nan        nan        nan        nan        nan        nan\n",
      " 0.55949813        nan        nan        nan 0.55949813        nan\n",
      " 0.55949813        nan        nan        nan        nan        nan\n",
      "        nan        nan        nan        nan 0.55949813        nan\n",
      " 0.55949813        nan 0.55949813        nan        nan 0.55949813\n",
      "        nan 0.55949813        nan 0.55949813 0.55949813        nan\n",
      "        nan        nan]\n",
      "  warnings.warn(\n"
     ]
    }
   ],
   "source": [
    "%%capture --no-stderr\n",
    "# Use k-fold cross validation with 5 folds\n",
    "model = LogisticRegression(multi_class = 'multinomial')\n",
    "cv = RepeatedStratifiedKFold(n_splits = 5, n_repeats = 3,random_state=1)\n",
    "space = dict()\n",
    "space['solver'] = ['newton-cg', 'lbfgs', 'liblinear']\n",
    "space['penalty'] = ['l1', 'l2', 'elasticnet']\n",
    "space['C'] = loguniform(1e-5,100)\n",
    "search = RandomizedSearchCV(model, space, n_iter=500, scoring = 'accuracy', n_jobs=-1, cv=cv, random_state=1)\n",
    "result = search.fit(X_train, np.squeeze(y_train))\n",
    "print('Best Score: %s' % result.best_score_)\n",
    "print('Best Hyperparameters: %s' % result.best_params_)"
   ]
  },
  {
   "cell_type": "code",
   "execution_count": 21,
   "id": "67dc42eb",
   "metadata": {},
   "outputs": [
    {
     "data": {
      "text/plain": [
       "{'C': 1.0018452045446539e-05, 'penalty': 'l2', 'solver': 'newton-cg'}"
      ]
     },
     "execution_count": 21,
     "metadata": {},
     "output_type": "execute_result"
    }
   ],
   "source": [
    "result.best_params_"
   ]
  },
  {
   "cell_type": "code",
   "execution_count": 22,
   "id": "0d830cc5",
   "metadata": {},
   "outputs": [
    {
     "name": "stdout",
     "output_type": "stream",
     "text": [
      "The accuracy of the model on the test data set is 0.5579019073569482 or 55.79%.\n"
     ]
    }
   ],
   "source": [
    "model = LogisticRegression(C = result.best_params_['C'], penalty = result.best_params_['penalty'], solver = result.best_params_['solver'], max_iter = 500).fit(X_train, np.squeeze(y_train))\n",
    "score = model.score(X_test, np.squeeze(y_test))\n",
    "print('The accuracy of the model on the test data set is ' + str(score) + ' or ' + str(round(score*100,2)) + '%.')"
   ]
  },
  {
   "cell_type": "markdown",
   "id": "78f843a4",
   "metadata": {},
   "source": [
    "Our model accuracy is 55.79%, which is not awful. This means that the model is accurately predicting the rating based on the review at least half the time. However, we can try other models to see if they improve accuracy."
   ]
  },
  {
   "cell_type": "code",
   "execution_count": 23,
   "id": "07ae44f8",
   "metadata": {},
   "outputs": [
    {
     "name": "stdout",
     "output_type": "stream",
     "text": [
      "The accuracy of the model on the test data set is 0.5579019073569482 or 55.79%.\n"
     ]
    }
   ],
   "source": [
    "clf = svm.SVC(decision_function_shape='ovo')\n",
    "clf.fit(X_train, y_train)\n",
    "y_pred = model.predict(X_test)\n",
    "score = clf.score(X_test, np.squeeze(y_test))\n",
    "print('The accuracy of the model on the test data set is ' + str(score) + ' or ' + str(round(score*100,2)) + '%.')"
   ]
  },
  {
   "cell_type": "code",
   "execution_count": 24,
   "id": "3cdddacb",
   "metadata": {},
   "outputs": [
    {
     "data": {
      "text/plain": [
       "Text(0.5, 1.0, 'Histogram of Amazon Dataset Ratings')"
      ]
     },
     "execution_count": 24,
     "metadata": {},
     "output_type": "execute_result"
    },
    {
     "data": {
      "image/png": "[encoded data removed]",
      "text/plain": [
       "<Figure size 640x480 with 1 Axes>"
      ]
     },
     "metadata": {},
     "output_type": "display_data"
    }
   ],
   "source": [
    "plt.hist(ratings['rating']) # skewed right, lots of five-star reviews, little one-star reviews\n",
    "plt.ylabel('Value Counts')\n",
    "plt.xlabel('Star Rating (from 1-5)')\n",
    "plt.title('Histogram of Amazon Dataset Ratings')"
   ]
  },
  {
   "cell_type": "markdown",
   "id": "bf8ba6d8",
   "metadata": {},
   "source": [
    "Upon looking at the distribution of star ratings, this explains why support vector machine performs poorly. We have a highly unnbalanced dataset, which is a large weakness of support vector machines. With this type of model, because the soft margin is weak, the decision hyperplanes become skewed towards the minority class when the model is training.\n",
    "\n",
    "Some ways to mitigate this is to balance the dataset by resampling so that there is an even distribution of ratings or to use class weights that reflect the proportion of each rating in the training dataset.\n",
    "\n",
    "This was an implementation of sentiment analysis, logistic regression on a dataset to classify text reviews into star ratings, hyperparameter optimization, and some comparison of different classificaation models from a publicily available dataset at: https://www.kaggle.com/datasets/whenamancodes/amazon-reviews-on-women-dresses?resource=download."
   ]
  }
 ],
 "metadata": {
  "kernelspec": {
   "display_name": "Python 3 (ipykernel)",
   "language": "python",
   "name": "python3"
  },
  "language_info": {
   "codemirror_mode": {
    "name": "ipython",
    "version": 3
   },
   "file_extension": ".py",
   "mimetype": "text/x-python",
   "name": "python",
   "nbconvert_exporter": "python",
   "pygments_lexer": "ipython3",
   "version": "3.8.15"
  }
 },
 "nbformat": 4,
 "nbformat_minor": 5
}
